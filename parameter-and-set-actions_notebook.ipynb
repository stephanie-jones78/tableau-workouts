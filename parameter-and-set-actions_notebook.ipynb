{
 "cells": [
  {
   "cell_type": "markdown",
   "id": "b2828150",
   "metadata": {},
   "source": [
    "Source [Advanced Tableau for BI](https://www.udemy.com/course/advanced-tableau-for-bi/), Udemy | Parameters and Set Actions"
   ]
  },
  {
   "cell_type": "markdown",
   "id": "eb3277b2",
   "metadata": {},
   "source": [
    "# Interactivity\n",
    "**Interactivity** allows users to dynamically change visualizations, their analytic components and physical structure by *selecting* a visualization\n",
    "\n",
    "Use cases include:\n",
    "- [Multi-Measure](#Multi-Measure)\n",
    "- [Index Chart](#Index-Chart)\n",
    "- [Year over Year](#Year-over-Year)\n",
    "- [Sheet Selector](#Sheet-Selector)\n",
    "- [Relative Dimension Analysis](#Relative-Dimension-Analysis)\n",
    "- [Proportional Brushing](#Proportional-Brushing)\n",
    "- [Asymmetric Drilldown](#Asymmetric-Drilldown)\n",
    "- [Color Scaling](#Color-Scaling)"
   ]
  },
  {
   "cell_type": "markdown",
   "id": "b4d664b2",
   "metadata": {},
   "source": [
    "## Parameter Actions\n",
    "**Parameter Actions** allow users to apply parameter values by selecting a visualization\n",
    "\n",
    "#### Step 1 | Create Parameter Action\n",
    "Create paramater action from `Dashboard` > `Actions` menu, select `Change Parameter`\n",
    ">*Note: Unlike filter actions, Parameter Actions cannot be created from a sheet, have to be done from menu\n",
    "\n",
    "#### Step 2 | Customize Settings\n",
    "- **Name** \n",
    "- **Source Sheets** *sheets where action will be generated from*\n",
    "- **Run action on** *Hover, Select, or Menu*\n",
    "- **Target Parameter** *Select parameter to be impacted by action*\n",
    "- **Value** *Select field from source sheet to push paramter*\n",
    "- **Aggregation** *Select an aggregation type for field, if applicable*"
   ]
  },
  {
   "cell_type": "markdown",
   "id": "b29fd0d5",
   "metadata": {},
   "source": [
    "## Multi-Measure\n",
    "[Back to the top](#Interactivity)\n",
    "\n",
    "**Multi-Measures** allow users to dynamically select metrics in a dashboard, enabling the parameter action as the driver instead of drop down"
   ]
  },
  {
   "cell_type": "markdown",
   "id": "2e03100d",
   "metadata": {},
   "source": [
    "> 📌 **Step 1** | Create **View Worksheets** for Each KPI Measure\n",
    ">- `Sales KPI`\n",
    ">- `Profit KPI`\n",
    ">- `Quantity KPI`"
   ]
  },
  {
   "cell_type": "markdown",
   "id": "ca3b95df",
   "metadata": {},
   "source": [
    "> 📌 **Step 2** | Create a `Multi-Measure Selection Parameter` and a `Measure Selection Calculated Field`<br>\n",
    "> Set the **parameter** to an integer value with a list of numbers from 1 - n (*n is the number of calculated fields to select from*).\n",
    "\n",
    "*For each integer value, alias it to be the name of the calculated field*\n",
    "> - 1 --> `Sales`\n",
    "> - 2 --> `Profit`\n",
    "> - 3 --> `Quantity`\n",
    "\n",
    "*For the **calculated field**, use a case statement with the above parameter value.*\n",
    ">```\n",
    "// Measure Selection Calculated Field\n",
    "CASE [Multi-Measure KPI Select Parameter]\n",
    "    WHEN 1 THEN [Sales]\n",
    "    WHEN 2 THEN [Profit]\n",
    "    WHEN 3 THEN [Quantity]\n",
    "END\n",
    "```"
   ]
  },
  {
   "cell_type": "markdown",
   "id": "96d65a1d",
   "metadata": {},
   "source": [
    "> 📌 **Step 3** |  Create a `Graph` **Worksheet View** with the new `Measure Selection Calculated Field`<br>\n",
    ">This can be a bar chart, map, or really any graph that uses a measure and any dimension of your choosing. <br>Add `Multi-Measure Selection Field` as the measure."
   ]
  },
  {
   "cell_type": "markdown",
   "id": "94968dab",
   "metadata": {},
   "source": [
    ">📌 **Step 4** | Create **Calculate Fields** for Each Measure Parameter Selection<br>\n",
    ">Create separate calculated fields for each measure selection, giving it its corresponding parameter selector value\n",
    ">- `Parameter Selector Field | Sales` --> 1 \n",
    ">- `Parameter Selector Field | Profit` --> 2\n",
    ">- `Parameter Selector Field | Quantity` --> 3\n",
    "\n",
    "⚠️ ***Ensure field data types are discrete to avoid aggregation***"
   ]
  },
  {
   "cell_type": "markdown",
   "id": "3c2aa659",
   "metadata": {},
   "source": [
    ">**📌 Step 5** | Place **Calculated Fields** --> on Corresponding **KPI Source Sheets**\n",
    ">- `Parameter Selector Field | Sales` --> Sales KPI Sheet \n",
    ">- `Parameter Selector Field | Profit` --> Profit KPI Sheet\n",
    ">- `Parameter Selector Field | Quantity` --> Quantity KPI Sheet"
   ]
  },
  {
   "cell_type": "markdown",
   "id": "21c25eb6",
   "metadata": {},
   "source": [
    ">**📌 Step 6** | Create **Dashboard** with KPI Sheets, Graph, and Parameter Actions<br>\n",
    ">For each KPI measure, create a parameter action, tying the KPI > parameter using source sheet"
   ]
  },
  {
   "cell_type": "markdown",
   "id": "35d4cf78",
   "metadata": {},
   "source": [
    "## Index Chart\n",
    "[Back to the top](#Interactivity)"
   ]
  },
  {
   "cell_type": "code",
   "execution_count": null,
   "id": "b9bfed1f",
   "metadata": {},
   "outputs": [],
   "source": []
  }
 ],
 "metadata": {
  "kernelspec": {
   "display_name": "Python 3",
   "language": "python",
   "name": "python3"
  },
  "language_info": {
   "codemirror_mode": {
    "name": "ipython",
    "version": 3
   },
   "file_extension": ".py",
   "mimetype": "text/x-python",
   "name": "python",
   "nbconvert_exporter": "python",
   "pygments_lexer": "ipython3",
   "version": "3.8.8"
  }
 },
 "nbformat": 4,
 "nbformat_minor": 5
}
